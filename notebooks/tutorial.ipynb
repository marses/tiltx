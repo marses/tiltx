{
 "cells": [
  {
   "cell_type": "markdown",
   "metadata": {},
   "source": [
    "# Feature extraction from mobile phone motion sensor data\n",
    "\n",
    "This notebook attempts to explain how to extract key features from the mobile phone sensor data representing a response to a visual assignment, which requires for the mobile phone to be physically maneuvered either left, right, up, or down.\n",
    "\n",
    "At $t=0$ a visual stimulus appears on the screen. As the response, a participant (person holding the phone) is required to tilt the phone in a specific direction. Once the roll or picth angle reaches 0.5 radians ($t=T>0$), the movment is completed. $T$ is the event time.\n",
    "\n",
    "We disregard the third rotational axis because it does not effect the outcome of the task at hand."
   ]
  },
  {
   "cell_type": "markdown",
   "metadata": {},
   "source": [
    "### Import the package"
   ]
  },
  {
   "cell_type": "markdown",
   "metadata": {},
   "source": [
    "Import `DataGenerator` to create simulated data. The class `FeatureExtractor` will be used to extract features from the data."
   ]
  },
  {
   "cell_type": "code",
   "execution_count": 1,
   "metadata": {},
   "outputs": [],
   "source": [
    "from tiltx.data_generator import DataGenerator\n",
    "from tiltx.feature_extractor import FeatureExtractor"
   ]
  },
  {
   "cell_type": "markdown",
   "metadata": {},
   "source": [
    "### Generate data\n",
    "\n",
    "The folder `data` contains real-life examples of Euler angles. The sensor data is truncated in such a fashion that we only deal with time serieses collected from the moment a visual stimulus appears till the app registers the move as completed (as soon as either roll or picth angle reaches 0.5 radians.)"
   ]
  },
  {
   "cell_type": "code",
   "execution_count": 2,
   "metadata": {},
   "outputs": [],
   "source": [
    "t, alpha, beta = DataGenerator.example(1)"
   ]
  },
  {
   "cell_type": "markdown",
   "metadata": {},
   "source": [
    "By changing $k$ in `DataGenerator.example(k)` we change the example data. The folder `data` provides six examples, i.e., $k \\in \\{1,2,3,4,5,6\\}$."
   ]
  },
  {
   "cell_type": "markdown",
   "metadata": {},
   "source": [
    "### Extract features\n",
    "\n",
    "The inputs to the `FeatureExtractor` class are:\n",
    "- `t` representing time component\n",
    "- `alpha` angle along left-right axis\n",
    "- `beta` angle along up-down axis\n",
    "- `RT_method` method for finding Reaction Time (either 'cumsum' or 'stationary')\n",
    "- `correct` the correct/desired direction ('left', 'right', 'up', or 'down')"
   ]
  },
  {
   "cell_type": "code",
   "execution_count": 3,
   "metadata": {},
   "outputs": [],
   "source": [
    "features = FeatureExtractor(t,alpha,beta,RT_method='cumsum',correct='up')"
   ]
  },
  {
   "cell_type": "markdown",
   "metadata": {},
   "source": [
    "Let us retrive, for instance, Reaction Time and L1 norms from `features`."
   ]
  },
  {
   "cell_type": "code",
   "execution_count": 4,
   "metadata": {},
   "outputs": [
    {
     "name": "stdout",
     "output_type": "stream",
     "text": [
      "Reaction time: 0.669\n",
      "L1-norm of the triggering axis: 0.492\n",
      "L1-norm of the remaining (non-triggering) axis: 0.006\n"
     ]
    }
   ],
   "source": [
    "print('Reaction time: %.3f'%(features.RT))\n",
    "print('L1-norm of the triggering axis: %.3f'%(features.L1_x))\n",
    "print('L1-norm of the remaining (non-triggering) axis: %.3f'%(features.L1_y))"
   ]
  },
  {
   "cell_type": "markdown",
   "metadata": {},
   "source": [
    "#### Print features\n",
    "\n",
    "Let us print all extracted features."
   ]
  },
  {
   "cell_type": "code",
   "execution_count": 5,
   "metadata": {},
   "outputs": [
    {
     "data": {
      "text/html": [
       "<style  type=\"text/css\" >\n",
       "</style><table id=\"T_e9dba16c_e123_11e9_a648_b8e8562d5d68\" ><thead>    <tr>        <th class=\"col_heading level0 col0\" >RT</th>        <th class=\"col_heading level0 col1\" >L1_x</th>        <th class=\"col_heading level0 col2\" >L1_y</th>        <th class=\"col_heading level0 col3\" >MD_x</th>        <th class=\"col_heading level0 col4\" >MD_y</th>        <th class=\"col_heading level0 col5\" >SE_x</th>        <th class=\"col_heading level0 col6\" >SE_y</th>        <th class=\"col_heading level0 col7\" >x_flips</th>        <th class=\"col_heading level0 col8\" >y_flips</th>    </tr></thead><tbody>\n",
       "                <tr>\n",
       "                                <td id=\"T_e9dba16c_e123_11e9_a648_b8e8562d5d68row0_col0\" class=\"data row0 col0\" >0.668854</td>\n",
       "                        <td id=\"T_e9dba16c_e123_11e9_a648_b8e8562d5d68row0_col1\" class=\"data row0 col1\" >0.491568</td>\n",
       "                        <td id=\"T_e9dba16c_e123_11e9_a648_b8e8562d5d68row0_col2\" class=\"data row0 col2\" >0.00562203</td>\n",
       "                        <td id=\"T_e9dba16c_e123_11e9_a648_b8e8562d5d68row0_col3\" class=\"data row0 col3\" >0.0362631</td>\n",
       "                        <td id=\"T_e9dba16c_e123_11e9_a648_b8e8562d5d68row0_col4\" class=\"data row0 col4\" >0.00835104</td>\n",
       "                        <td id=\"T_e9dba16c_e123_11e9_a648_b8e8562d5d68row0_col5\" class=\"data row0 col5\" >0.0245207</td>\n",
       "                        <td id=\"T_e9dba16c_e123_11e9_a648_b8e8562d5d68row0_col6\" class=\"data row0 col6\" >0.038276</td>\n",
       "                        <td id=\"T_e9dba16c_e123_11e9_a648_b8e8562d5d68row0_col7\" class=\"data row0 col7\" >3</td>\n",
       "                        <td id=\"T_e9dba16c_e123_11e9_a648_b8e8562d5d68row0_col8\" class=\"data row0 col8\" >4</td>\n",
       "            </tr>\n",
       "    </tbody></table>"
      ],
      "text/plain": [
       "<pandas.io.formats.style.Styler at 0x1c1c972470>"
      ]
     },
     "execution_count": 5,
     "metadata": {},
     "output_type": "execute_result"
    }
   ],
   "source": [
    "import pandas\n",
    "data = [[features.RT,features.L1_x,features.L1_y,features.MD_x,features.MD_y,\n",
    "         features.SE_x,features.SE_y,features.x_flips,features.y_flips]]\n",
    "key_features = pandas.DataFrame(data, columns=[\"RT\", \"L1_x\",\"L1_y\",\"MD_x\",\"MD_y\",\n",
    "                                               \"SE_x\",\"SE_y\",\"x_flips\",\"y_flips\"])\n",
    "key_features.style.hide_index()"
   ]
  },
  {
   "cell_type": "markdown",
   "metadata": {},
   "source": [
    "#### Plot the signals"
   ]
  },
  {
   "cell_type": "markdown",
   "metadata": {},
   "source": [
    "By calling `plot()` function in `FeatureExtractor`, we plot the roll and pitch angles from the moment the stimulus appears till the moment when the app registers the move as completed.\n",
    "\n",
    "- $x$ is a triggering angle (the one which reaches 0.5 radians first)\n",
    "- $y$ is the remaining angle\n",
    "- the shaded regions are proportional to L1 norms\n",
    "- the black dotted line marks the begining of the reaction"
   ]
  },
  {
   "cell_type": "code",
   "execution_count": 6,
   "metadata": {},
   "outputs": [
    {
     "data": {
      "image/png": "[encoded data removed]",
      "text/plain": [
       "<Figure size 432x288 with 1 Axes>"
      ]
     },
     "metadata": {
      "needs_background": "light"
     },
     "output_type": "display_data"
    }
   ],
   "source": [
    "features.plot()"
   ]
  }
 ],
 "metadata": {
  "kernelspec": {
   "display_name": "Python 3",
   "language": "python",
   "name": "python3"
  },
  "language_info": {
   "codemirror_mode": {
    "name": "ipython",
    "version": 3
   },
   "file_extension": ".py",
   "mimetype": "text/x-python",
   "name": "python",
   "nbconvert_exporter": "python",
   "pygments_lexer": "ipython3",
   "version": "3.6.9"
  }
 },
 "nbformat": 4,
 "nbformat_minor": 4
}
