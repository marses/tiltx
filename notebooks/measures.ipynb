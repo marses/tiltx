{
 "cells": [
  {
   "cell_type": "markdown",
   "metadata": {},
   "source": [
    "## Output Measures\n",
    "\n",
    "At $t=0$ a visual stimulus appears on the screen. As the response, a participant is required to tilt the phone in one of the directions: left, right, up, or down. Once the roll or picth angle reaches 0.5 radians ($t=T>0$), the movment is completed. $T$ is the event time registered by the app. The rotation along the third axis (yaw component) *does not* affect the outcome and hence is disregarded.\n",
    "\n",
    "The features extracted by TiltX are: reaction time, L1 norms, maximal deviation, number of turning points, and sample entropy.\n",
    "\n",
    "The 2-dimensional configuration of the phone is specified by phone's Euler angles: $\\alpha(t)$ along left-right axis and $\\beta(t)$ along up-down axis. We focus on a triggering angle $x$ (the one that cuases an event to be recorded) and a following angle $y$. We disregard the third Eular angle.\n",
    "\n",
    "- $L_1$-norms:\n",
    "$$\\| \\alpha(t)\\|_{L_1} = \\frac{1}{T} \\int_0^T \\left| \\frac{1}{2} \\phi_\\alpha - \\alpha(t)\\right| dt$$\n",
    "\n",
    "$$\\| \\beta(t)\\|_{L_1} = \\frac{1}{T} \\int_0^T \\left| \\frac{1}{2} \\phi_\\beta - \\beta(t) \\right| dt$$\n",
    "\n",
    "Here $\\phi_\\alpha$ and $\\phi_\\beta$ belong to the set $\\{(1,0),(-1,0),(0,1),(0,-1)\\}$, which encodes the direction of the desired response {left, right, up, down}. The fraction $\\frac{1}{2}$ comes from the target of 0.5 radians, when the move finishes ($t=T$).\n",
    "\n",
    "If $\\alpha$ is a triggering angle then:\n",
    "$$\\| x(t)\\|_{L_1} = \\| \\alpha(t)\\|_{L_1} ~~ \\text{and} ~~ \\| y(t)\\|_{L_1} = \\| \\beta(t)\\|_{L_1}\\,,$$\n",
    "otherwise, $\\beta$ is the triggering angle and:\n",
    "$$\\| x(t)\\|_{L_1} = \\| \\beta(t)\\|_{L_1} ~~ \\text{and} ~~ \\| y(t)\\|_{L_1} = \\| \\alpha(t)\\|_{L_1}\\,.$$\n",
    "\n",
    "- Maximal Deviation \n",
    "Maximal Deviation (MD) of the triggering signal measured along the axis of the desired response in the opposite direction of the target. MD of the remaining signal is measured as a maximal deviation from the zero reference.\n",
    "- Number of turns a signal makes (characterized by the number of gradient sign changes)\n",
    "- Sample Entropy\n",
    "\n",
    "These measures are similar to those found in mouse tracking literature (see, e.g., Freeman, J. B., and Ambady, N. (2010). *MouseTracker: software for studying real-time mental processing using a computer mouse-tracking method.* Behav. Res. Methods 42, 226–241.)."
   ]
  },
  {
   "cell_type": "code",
   "execution_count": null,
   "metadata": {},
   "outputs": [],
   "source": []
  }
 ],
 "metadata": {
  "kernelspec": {
   "display_name": "Python 3",
   "language": "python",
   "name": "python3"
  },
  "language_info": {
   "codemirror_mode": {
    "name": "ipython",
    "version": 3
   },
   "file_extension": ".py",
   "mimetype": "text/x-python",
   "name": "python",
   "nbconvert_exporter": "python",
   "pygments_lexer": "ipython3",
   "version": "3.6.9"
  }
 },
 "nbformat": 4,
 "nbformat_minor": 4
}
