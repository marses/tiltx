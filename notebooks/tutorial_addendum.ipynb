{
 "cells": [
  {
   "cell_type": "markdown",
   "metadata": {},
   "source": [
    "# Example 4"
   ]
  },
  {
   "cell_type": "markdown",
   "metadata": {},
   "source": [
    "#### Import the package and generate data"
   ]
  },
  {
   "cell_type": "code",
   "execution_count": 1,
   "metadata": {},
   "outputs": [],
   "source": [
    "from tiltx.data_generator import DataGenerator\n",
    "from tiltx.feature_extractor import FeatureExtractor\n",
    "# use data from Example 4\n",
    "t, alpha, beta = DataGenerator.example(4)"
   ]
  },
  {
   "cell_type": "markdown",
   "metadata": {},
   "source": [
    "#### Get `FeatureExtractor`"
   ]
  },
  {
   "cell_type": "code",
   "execution_count": 2,
   "metadata": {},
   "outputs": [],
   "source": [
    "features = FeatureExtractor(t,alpha,beta,RT_method='cumsum',correct='right')"
   ]
  },
  {
   "cell_type": "markdown",
   "metadata": {},
   "source": [
    "#### Print features\n",
    "\n",
    "Let us print all extracted features."
   ]
  },
  {
   "cell_type": "code",
   "execution_count": 3,
   "metadata": {},
   "outputs": [
    {
     "data": {
      "text/html": [
       "<style  type=\"text/css\" >\n",
       "</style><table id=\"T_6f429876_e1ef_11e9_92cb_b8e8562d5d68\" ><thead>    <tr>        <th class=\"col_heading level0 col0\" >RT</th>        <th class=\"col_heading level0 col1\" >L1_x</th>        <th class=\"col_heading level0 col2\" >L1_y</th>        <th class=\"col_heading level0 col3\" >MD_x</th>        <th class=\"col_heading level0 col4\" >MD_y</th>        <th class=\"col_heading level0 col5\" >SE_x</th>        <th class=\"col_heading level0 col6\" >SE_y</th>        <th class=\"col_heading level0 col7\" >x_flips</th>        <th class=\"col_heading level0 col8\" >y_flips</th>    </tr></thead><tbody>\n",
       "                <tr>\n",
       "                                <td id=\"T_6f429876_e1ef_11e9_92cb_b8e8562d5d68row0_col0\" class=\"data row0 col0\" >1.34944</td>\n",
       "                        <td id=\"T_6f429876_e1ef_11e9_92cb_b8e8562d5d68row0_col1\" class=\"data row0 col1\" >0.467103</td>\n",
       "                        <td id=\"T_6f429876_e1ef_11e9_92cb_b8e8562d5d68row0_col2\" class=\"data row0 col2\" >0.0158372</td>\n",
       "                        <td id=\"T_6f429876_e1ef_11e9_92cb_b8e8562d5d68row0_col3\" class=\"data row0 col3\" >0.00447267</td>\n",
       "                        <td id=\"T_6f429876_e1ef_11e9_92cb_b8e8562d5d68row0_col4\" class=\"data row0 col4\" >0.0180953</td>\n",
       "                        <td id=\"T_6f429876_e1ef_11e9_92cb_b8e8562d5d68row0_col5\" class=\"data row0 col5\" >0.023498</td>\n",
       "                        <td id=\"T_6f429876_e1ef_11e9_92cb_b8e8562d5d68row0_col6\" class=\"data row0 col6\" >0.0239253</td>\n",
       "                        <td id=\"T_6f429876_e1ef_11e9_92cb_b8e8562d5d68row0_col7\" class=\"data row0 col7\" >6</td>\n",
       "                        <td id=\"T_6f429876_e1ef_11e9_92cb_b8e8562d5d68row0_col8\" class=\"data row0 col8\" >4</td>\n",
       "            </tr>\n",
       "    </tbody></table>"
      ],
      "text/plain": [
       "<pandas.io.formats.style.Styler at 0x1c1ee61358>"
      ]
     },
     "execution_count": 3,
     "metadata": {},
     "output_type": "execute_result"
    }
   ],
   "source": [
    "import pandas\n",
    "data = [[features.RT,features.L1_x,features.L1_y,features.MD_x,features.MD_y,\n",
    "         features.SE_x,features.SE_y,features.x_flips,features.y_flips]]\n",
    "key_features = pandas.DataFrame(data, columns=[\"RT\", \"L1_x\",\"L1_y\",\"MD_x\",\"MD_y\",\n",
    "                                               \"SE_x\",\"SE_y\",\"x_flips\",\"y_flips\"])\n",
    "key_features.style.hide_index()"
   ]
  },
  {
   "cell_type": "markdown",
   "metadata": {},
   "source": [
    "#### Plot the signals"
   ]
  },
  {
   "cell_type": "code",
   "execution_count": 4,
   "metadata": {},
   "outputs": [
    {
     "data": {
      "image/png": "[encoded data removed]",
      "text/plain": [
       "<Figure size 432x288 with 1 Axes>"
      ]
     },
     "metadata": {
      "needs_background": "light"
     },
     "output_type": "display_data"
    }
   ],
   "source": [
    "features.plot()"
   ]
  },
  {
   "cell_type": "markdown",
   "metadata": {},
   "source": [
    "Now, let us change the direction of the correct response to `down`."
   ]
  },
  {
   "cell_type": "code",
   "execution_count": 5,
   "metadata": {},
   "outputs": [],
   "source": [
    "features_incorrect = FeatureExtractor(t,alpha,beta,RT_method='cumsum',correct='down')"
   ]
  },
  {
   "cell_type": "markdown",
   "metadata": {},
   "source": [
    "Examine the key features."
   ]
  },
  {
   "cell_type": "code",
   "execution_count": 6,
   "metadata": {},
   "outputs": [
    {
     "data": {
      "text/html": [
       "<style  type=\"text/css\" >\n",
       "</style><table id=\"T_74ce5550_e1ef_11e9_a9fe_b8e8562d5d68\" ><thead>    <tr>        <th class=\"col_heading level0 col0\" >RT</th>        <th class=\"col_heading level0 col1\" >L1_x</th>        <th class=\"col_heading level0 col2\" >L1_y</th>        <th class=\"col_heading level0 col3\" >MD_x</th>        <th class=\"col_heading level0 col4\" >MD_y</th>        <th class=\"col_heading level0 col5\" >SE_x</th>        <th class=\"col_heading level0 col6\" >SE_y</th>        <th class=\"col_heading level0 col7\" >x_flips</th>        <th class=\"col_heading level0 col8\" >y_flips</th>    </tr></thead><tbody>\n",
       "                <tr>\n",
       "                                <td id=\"T_74ce5550_e1ef_11e9_a9fe_b8e8562d5d68row0_col0\" class=\"data row0 col0\" >1.34944</td>\n",
       "                        <td id=\"T_74ce5550_e1ef_11e9_a9fe_b8e8562d5d68row0_col1\" class=\"data row0 col1\" >0.0330148</td>\n",
       "                        <td id=\"T_74ce5550_e1ef_11e9_a9fe_b8e8562d5d68row0_col2\" class=\"data row0 col2\" >0.484164</td>\n",
       "                        <td id=\"T_74ce5550_e1ef_11e9_a9fe_b8e8562d5d68row0_col3\" class=\"data row0 col3\" >6.65923e-05</td>\n",
       "                        <td id=\"T_74ce5550_e1ef_11e9_a9fe_b8e8562d5d68row0_col4\" class=\"data row0 col4\" >0.0117243</td>\n",
       "                        <td id=\"T_74ce5550_e1ef_11e9_a9fe_b8e8562d5d68row0_col5\" class=\"data row0 col5\" >0.023498</td>\n",
       "                        <td id=\"T_74ce5550_e1ef_11e9_a9fe_b8e8562d5d68row0_col6\" class=\"data row0 col6\" >0.0239253</td>\n",
       "                        <td id=\"T_74ce5550_e1ef_11e9_a9fe_b8e8562d5d68row0_col7\" class=\"data row0 col7\" >6</td>\n",
       "                        <td id=\"T_74ce5550_e1ef_11e9_a9fe_b8e8562d5d68row0_col8\" class=\"data row0 col8\" >4</td>\n",
       "            </tr>\n",
       "    </tbody></table>"
      ],
      "text/plain": [
       "<pandas.io.formats.style.Styler at 0x1c1f588b70>"
      ]
     },
     "execution_count": 6,
     "metadata": {},
     "output_type": "execute_result"
    }
   ],
   "source": [
    "data_incorrect = [[features_incorrect.RT,features_incorrect.L1_x,features_incorrect.L1_y,features_incorrect.MD_x,features_incorrect.MD_y,\n",
    "         features_incorrect.SE_x,features_incorrect.SE_y,features_incorrect.x_flips,features_incorrect.y_flips]]\n",
    "key_features_incorrect = pandas.DataFrame(data_incorrect, columns=[\"RT\", \"L1_x\",\"L1_y\",\"MD_x\",\"MD_y\",\n",
    "                                               \"SE_x\",\"SE_y\",\"x_flips\",\"y_flips\"])\n",
    "key_features_incorrect.style.hide_index()"
   ]
  },
  {
   "cell_type": "markdown",
   "metadata": {},
   "source": [
    "Notice the change in L1-norms and maximal deviations."
   ]
  }
 ],
 "metadata": {
  "kernelspec": {
   "display_name": "Python 3",
   "language": "python",
   "name": "python3"
  },
  "language_info": {
   "codemirror_mode": {
    "name": "ipython",
    "version": 3
   },
   "file_extension": ".py",
   "mimetype": "text/x-python",
   "name": "python",
   "nbconvert_exporter": "python",
   "pygments_lexer": "ipython3",
   "version": "3.6.9"
  }
 },
 "nbformat": 4,
 "nbformat_minor": 4
}
